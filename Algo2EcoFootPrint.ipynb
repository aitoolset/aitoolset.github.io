{
 "cells": [
  {
   "cell_type": "code",
   "execution_count": 103,
   "metadata": {},
   "outputs": [],
   "source": [
    "from sklearn.datasets import make_classification\n",
    "from matplotlib import pyplot as plt\n",
    "from sklearn.linear_model import LogisticRegression\n",
    "from sklearn.model_selection import train_test_split\n",
    "from sklearn.metrics import confusion_matrix\n",
    "import pandas as pd"
   ]
  },
  {
   "cell_type": "code",
   "execution_count": 104,
   "metadata": {},
   "outputs": [],
   "source": [
    "# Loading Formula One Dataset\n",
    "data = pd.read_csv('ecofootprint.csv')"
   ]
  },
  {
   "cell_type": "markdown",
   "metadata": {},
   "source": [
    "#### Starts off with Ecological Footprint dataset being loaded from the CSV file listed on :\n",
    "\n",
    "#### https://www.kaggle.com/usharengaraju/ecological-footprint . \n",
    "\n",
    "#### It includes crop_land, forest_land, and built_up_land"
   ]
  },
  {
   "cell_type": "code",
   "execution_count": 105,
   "metadata": {},
   "outputs": [
    {
     "data": {
      "text/plain": [
       "<bound method NDFrame.tail of        country  year  country_code        record     crop_land  grazing_land  \\\n",
       "0      Armenia  1992             1    AreaPerCap  1.400203e-01  1.991593e-01   \n",
       "1      Armenia  1992             1     AreaTotHA  4.830000e+05  6.870000e+05   \n",
       "2      Armenia  1992             1  BiocapPerCap  1.611286e-01  1.350234e-01   \n",
       "3      Armenia  1992             1  BiocapTotGHA  5.558130e+05  4.657633e+05   \n",
       "4      Armenia  1992             1  EFConsPerCap  3.909225e-01  1.891373e-01   \n",
       "...        ...   ...           ...           ...           ...           ...   \n",
       "69611    World  2014          5001  BiocapTotGHA  3.996304e+09  1.515536e+09   \n",
       "69612    World  2014          5001  EFConsPerCap  5.500165e-01  1.444376e-01   \n",
       "69613    World  2014          5001  EFConsTotGHA  3.996304e+09  1.049453e+09   \n",
       "69614    World  2014          5001  EFProdPerCap  5.500165e-01  1.444376e-01   \n",
       "69615    World  2014          5001  EFProdTotGHA  3.996304e+09  1.049453e+09   \n",
       "\n",
       "        forest_land  fishing_ground  built_up_land        carbon  \\\n",
       "0      9.699956e-02    3.681693e-02   2.925786e-02  0.000000e+00   \n",
       "1      3.346000e+05    1.270000e+05   1.009250e+05  0.000000e+00   \n",
       "2      8.383553e-02    1.371800e-02   3.366853e-02  0.000000e+00   \n",
       "3      2.891907e+05    4.732022e+04   1.161396e+05  0.000000e+00   \n",
       "4      1.250000e-06    4.137644e-03   3.366853e-02  1.112225e+00   \n",
       "...             ...             ...            ...           ...   \n",
       "69611  5.149067e+09    1.095469e+09   4.649979e+08  0.000000e+00   \n",
       "69612  2.775060e-01    9.279940e-02   6.399826e-02  1.706710e+00   \n",
       "69613  2.016300e+09    6.742609e+08   4.649979e+08  1.240060e+10   \n",
       "69614  2.775060e-01    9.279940e-02   6.399826e-02  1.706710e+00   \n",
       "69615  2.016300e+09    6.742609e+08   4.649979e+08  1.240060e+10   \n",
       "\n",
       "              total QScore  \n",
       "0      5.022540e-01     3A  \n",
       "1      1.732525e+06     3A  \n",
       "2      4.273741e-01     3A  \n",
       "3      1.474227e+06     3A  \n",
       "4      1.730092e+00     3A  \n",
       "...             ...    ...  \n",
       "69611  1.222137e+10     3A  \n",
       "69612  2.835469e+00     3A  \n",
       "69613  2.060191e+10     3A  \n",
       "69614  2.835469e+00     3A  \n",
       "69615  2.060191e+10     3A  \n",
       "\n",
       "[69616 rows x 12 columns]>"
      ]
     },
     "execution_count": 105,
     "metadata": {},
     "output_type": "execute_result"
    }
   ],
   "source": [
    "# Display of variety of datapoints in \"results.csv\"\n",
    "data.tail"
   ]
  },
  {
   "cell_type": "code",
   "execution_count": 106,
   "metadata": {},
   "outputs": [
    {
     "data": {
      "text/plain": [
       "(50824, 12)"
      ]
     },
     "execution_count": 106,
     "metadata": {},
     "output_type": "execute_result"
    }
   ],
   "source": [
    "# Reducing the number of datapoints, dropping ones which wouldn't improve results. \n",
    "# Also clearing rows with any empty fields. \n",
    "\n",
    "data = data.dropna()\n",
    "data.shape\n",
    "\n"
   ]
  },
  {
   "cell_type": "code",
   "execution_count": 107,
   "metadata": {},
   "outputs": [
    {
     "data": {
      "text/plain": [
       "Text(0, 0.5, 'Total Footprint')"
      ]
     },
     "execution_count": 107,
     "metadata": {},
     "output_type": "execute_result"
    },
    {
     "data": {
      "image/png": "[encoded data removed]",
      "text/plain": [
       "<Figure size 432x288 with 1 Axes>"
      ]
     },
     "metadata": {
      "needs_background": "light"
     },
     "output_type": "display_data"
    }
   ],
   "source": [
    "# Processing preliminary scatter plot, which includes crop_land and total footprint. \n",
    "\n",
    "plt.scatter(data.crop_land, data.total)\n",
    "plt.title('EcoFootprint Scatter Plot')\n",
    "plt.xlabel('Crop Land')\n",
    "plt.ylabel('Total Footprint')"
   ]
  },
  {
   "cell_type": "code",
   "execution_count": 108,
   "metadata": {},
   "outputs": [
    {
     "data": {
      "text/html": [
       "<div>\n",
       "<style scoped>\n",
       "    .dataframe tbody tr th:only-of-type {\n",
       "        vertical-align: middle;\n",
       "    }\n",
       "\n",
       "    .dataframe tbody tr th {\n",
       "        vertical-align: top;\n",
       "    }\n",
       "\n",
       "    .dataframe thead th {\n",
       "        text-align: right;\n",
       "    }\n",
       "</style>\n",
       "<table border=\"1\" class=\"dataframe\">\n",
       "  <thead>\n",
       "    <tr style=\"text-align: right;\">\n",
       "      <th></th>\n",
       "      <th>country</th>\n",
       "      <th>country_code</th>\n",
       "      <th>record</th>\n",
       "      <th>crop_land</th>\n",
       "      <th>grazing_land</th>\n",
       "      <th>forest_land</th>\n",
       "      <th>fishing_ground</th>\n",
       "      <th>built_up_land</th>\n",
       "      <th>carbon</th>\n",
       "      <th>total</th>\n",
       "      <th>QScore</th>\n",
       "    </tr>\n",
       "    <tr>\n",
       "      <th>year</th>\n",
       "      <th></th>\n",
       "      <th></th>\n",
       "      <th></th>\n",
       "      <th></th>\n",
       "      <th></th>\n",
       "      <th></th>\n",
       "      <th></th>\n",
       "      <th></th>\n",
       "      <th></th>\n",
       "      <th></th>\n",
       "      <th></th>\n",
       "    </tr>\n",
       "  </thead>\n",
       "  <tbody>\n",
       "    <tr>\n",
       "      <th>1992</th>\n",
       "      <td>Armenia</td>\n",
       "      <td>1</td>\n",
       "      <td>AreaPerCap</td>\n",
       "      <td>0.140020</td>\n",
       "      <td>0.199159</td>\n",
       "      <td>0.097000</td>\n",
       "      <td>0.036817</td>\n",
       "      <td>0.029258</td>\n",
       "      <td>0.0</td>\n",
       "      <td>5.022540e-01</td>\n",
       "      <td>3A</td>\n",
       "    </tr>\n",
       "    <tr>\n",
       "      <th>1992</th>\n",
       "      <td>Armenia</td>\n",
       "      <td>1</td>\n",
       "      <td>AreaTotHA</td>\n",
       "      <td>483000.000000</td>\n",
       "      <td>687000.000000</td>\n",
       "      <td>334600.000000</td>\n",
       "      <td>127000.000000</td>\n",
       "      <td>100925.003100</td>\n",
       "      <td>0.0</td>\n",
       "      <td>1.732525e+06</td>\n",
       "      <td>3A</td>\n",
       "    </tr>\n",
       "    <tr>\n",
       "      <th>1992</th>\n",
       "      <td>Armenia</td>\n",
       "      <td>1</td>\n",
       "      <td>BiocapPerCap</td>\n",
       "      <td>0.161129</td>\n",
       "      <td>0.135023</td>\n",
       "      <td>0.083836</td>\n",
       "      <td>0.013718</td>\n",
       "      <td>0.033669</td>\n",
       "      <td>0.0</td>\n",
       "      <td>4.273741e-01</td>\n",
       "      <td>3A</td>\n",
       "    </tr>\n",
       "  </tbody>\n",
       "</table>\n",
       "</div>"
      ],
      "text/plain": [
       "      country  country_code        record      crop_land   grazing_land  \\\n",
       "year                                                                      \n",
       "1992  Armenia             1    AreaPerCap       0.140020       0.199159   \n",
       "1992  Armenia             1     AreaTotHA  483000.000000  687000.000000   \n",
       "1992  Armenia             1  BiocapPerCap       0.161129       0.135023   \n",
       "\n",
       "        forest_land  fishing_ground  built_up_land  carbon         total  \\\n",
       "year                                                                       \n",
       "1992       0.097000        0.036817       0.029258     0.0  5.022540e-01   \n",
       "1992  334600.000000   127000.000000  100925.003100     0.0  1.732525e+06   \n",
       "1992       0.083836        0.013718       0.033669     0.0  4.273741e-01   \n",
       "\n",
       "     QScore  \n",
       "year         \n",
       "1992     3A  \n",
       "1992     3A  \n",
       "1992     3A  "
      ]
     },
     "execution_count": 108,
     "metadata": {},
     "output_type": "execute_result"
    }
   ],
   "source": [
    "data = data.set_index('year')\n",
    "data.head(3)\n"
   ]
  },
  {
   "cell_type": "code",
   "execution_count": 109,
   "metadata": {},
   "outputs": [
    {
     "data": {
      "text/plain": [
       "Int64Index([1992, 1992, 1992, 1992, 1992, 1992, 1992, 1992, 1993, 1993,\n",
       "            ...\n",
       "            2013, 2013, 2014, 2014, 2014, 2014, 2014, 2014, 2014, 2014],\n",
       "           dtype='int64', name='year', length=50824)"
      ]
     },
     "execution_count": 109,
     "metadata": {},
     "output_type": "execute_result"
    }
   ],
   "source": [
    "data.index\n"
   ]
  },
  {
   "cell_type": "code",
   "execution_count": 110,
   "metadata": {},
   "outputs": [
    {
     "data": {
      "text/plain": [
       "Index(['country', 'country_code', 'record', 'crop_land', 'grazing_land',\n",
       "       'forest_land', 'fishing_ground', 'built_up_land', 'carbon', 'total',\n",
       "       'QScore'],\n",
       "      dtype='object')"
      ]
     },
     "execution_count": 110,
     "metadata": {},
     "output_type": "execute_result"
    }
   ],
   "source": [
    "data.columns"
   ]
  },
  {
   "cell_type": "code",
   "execution_count": 111,
   "metadata": {},
   "outputs": [
    {
     "data": {
      "text/plain": [
       "<matplotlib.axes._subplots.AxesSubplot at 0x125252490>"
      ]
     },
     "execution_count": 111,
     "metadata": {},
     "output_type": "execute_result"
    },
    {
     "data": {
      "image/png": "[encoded data removed]",
      "text/plain": [
       "<Figure size 864x576 with 2 Axes>"
      ]
     },
     "metadata": {
      "needs_background": "light"
     },
     "output_type": "display_data"
    }
   ],
   "source": [
    " \n",
    "data.plot(\n",
    "    kind='hexbin',\n",
    "    x='crop_land',\n",
    "    y='forest_land',\n",
    "    C='total',\n",
    "    gridsize=20,\n",
    "    figsize=(12,8),\n",
    "    cmap=\"Greens\", # defaults to greenish\n",
    "    sharex=False # required to get rid of a bug\n",
    ")"
   ]
  },
  {
   "cell_type": "code",
   "execution_count": 112,
   "metadata": {},
   "outputs": [
    {
     "data": {
      "text/plain": [
       "<bound method NDFrame.head of       country  country_code        record     crop_land  grazing_land  \\\n",
       "year                                                                    \n",
       "1992  Armenia             1    AreaPerCap  1.400203e-01  1.991593e-01   \n",
       "1992  Armenia             1     AreaTotHA  4.830000e+05  6.870000e+05   \n",
       "1992  Armenia             1  BiocapPerCap  1.611286e-01  1.350234e-01   \n",
       "1992  Armenia             1  BiocapTotGHA  5.558130e+05  4.657633e+05   \n",
       "1992  Armenia             1  EFConsPerCap  3.909225e-01  1.891373e-01   \n",
       "...       ...           ...           ...           ...           ...   \n",
       "2014    World          5001  BiocapTotGHA  3.996304e+09  1.515536e+09   \n",
       "2014    World          5001  EFConsPerCap  5.500165e-01  1.444376e-01   \n",
       "2014    World          5001  EFConsTotGHA  3.996304e+09  1.049453e+09   \n",
       "2014    World          5001  EFProdPerCap  5.500165e-01  1.444376e-01   \n",
       "2014    World          5001  EFProdTotGHA  3.996304e+09  1.049453e+09   \n",
       "\n",
       "       forest_land  fishing_ground  built_up_land        carbon         total  \\\n",
       "year                                                                            \n",
       "1992  9.699956e-02    3.681693e-02   2.925786e-02  0.000000e+00  5.022540e-01   \n",
       "1992  3.346000e+05    1.270000e+05   1.009250e+05  0.000000e+00  1.732525e+06   \n",
       "1992  8.383553e-02    1.371800e-02   3.366853e-02  0.000000e+00  4.273741e-01   \n",
       "1992  2.891907e+05    4.732022e+04   1.161396e+05  0.000000e+00  1.474227e+06   \n",
       "1992  1.250000e-06    4.137644e-03   3.366853e-02  1.112225e+00  1.730092e+00   \n",
       "...            ...             ...            ...           ...           ...   \n",
       "2014  5.149067e+09    1.095469e+09   4.649979e+08  0.000000e+00  1.222137e+10   \n",
       "2014  2.775060e-01    9.279940e-02   6.399826e-02  1.706710e+00  2.835469e+00   \n",
       "2014  2.016300e+09    6.742609e+08   4.649979e+08  1.240060e+10  2.060191e+10   \n",
       "2014  2.775060e-01    9.279940e-02   6.399826e-02  1.706710e+00  2.835469e+00   \n",
       "2014  2.016300e+09    6.742609e+08   4.649979e+08  1.240060e+10  2.060191e+10   \n",
       "\n",
       "     QScore  \n",
       "year         \n",
       "1992     3A  \n",
       "1992     3A  \n",
       "1992     3A  \n",
       "1992     3A  \n",
       "1992     3A  \n",
       "...     ...  \n",
       "2014     3A  \n",
       "2014     3A  \n",
       "2014     3A  \n",
       "2014     3A  \n",
       "2014     3A  \n",
       "\n",
       "[50824 rows x 11 columns]>"
      ]
     },
     "execution_count": 112,
     "metadata": {},
     "output_type": "execute_result"
    }
   ],
   "source": [
    "# Remaining rows after filtering through data\n",
    "data.head\n"
   ]
  },
  {
   "cell_type": "code",
   "execution_count": 113,
   "metadata": {},
   "outputs": [],
   "source": [
    "#X_train, X_test, y_train, y_test = train_test_split(data.driverId, data.position)\n",
    "X_train, X_test, y_train, y_test = train_test_split(data.forest_land, data.total, test_size=0.10)"
   ]
  },
  {
   "cell_type": "code",
   "execution_count": 114,
   "metadata": {},
   "outputs": [],
   "source": [
    "X_train = X_train.values.reshape(-1, 1)\n",
    "X_test = X_test.values.reshape(-1, 1)"
   ]
  },
  {
   "cell_type": "code",
   "execution_count": 115,
   "metadata": {},
   "outputs": [],
   "source": [
    "# KNN Algorithm\n",
    "from sklearn.neighbors import KNeighborsRegressor\n",
    "knn = KNeighborsRegressor(algorithm='brute')"
   ]
  },
  {
   "cell_type": "code",
   "execution_count": 116,
   "metadata": {},
   "outputs": [
    {
     "data": {
      "text/plain": [
       "KNeighborsRegressor(algorithm='brute', leaf_size=30, metric='minkowski',\n",
       "                    metric_params=None, n_jobs=None, n_neighbors=5, p=2,\n",
       "                    weights='uniform')"
      ]
     },
     "execution_count": 116,
     "metadata": {},
     "output_type": "execute_result"
    }
   ],
   "source": [
    "knn.fit(X_train, y_train)"
   ]
  },
  {
   "cell_type": "code",
   "execution_count": 117,
   "metadata": {},
   "outputs": [
    {
     "data": {
      "text/plain": [
       "0.9617669933824177"
      ]
     },
     "execution_count": 117,
     "metadata": {},
     "output_type": "execute_result"
    }
   ],
   "source": [
    "knn.score(X_test,y_test)"
   ]
  },
  {
   "cell_type": "code",
   "execution_count": 118,
   "metadata": {},
   "outputs": [
    {
     "data": {
      "text/plain": [
       "array([4.64980849])"
      ]
     },
     "execution_count": 118,
     "metadata": {},
     "output_type": "execute_result"
    }
   ],
   "source": [
    "knn.predict([[1]])"
   ]
  },
  {
   "cell_type": "code",
   "execution_count": 119,
   "metadata": {},
   "outputs": [
    {
     "data": {
      "text/plain": [
       "RandomForestRegressor(bootstrap=True, ccp_alpha=0.0, criterion='mse',\n",
       "                      max_depth=None, max_features='auto', max_leaf_nodes=None,\n",
       "                      max_samples=None, min_impurity_decrease=0.0,\n",
       "                      min_impurity_split=None, min_samples_leaf=1,\n",
       "                      min_samples_split=2, min_weight_fraction_leaf=0.0,\n",
       "                      n_estimators=20, n_jobs=None, oob_score=False,\n",
       "                      random_state=0, verbose=0, warm_start=False)"
      ]
     },
     "execution_count": 119,
     "metadata": {},
     "output_type": "execute_result"
    }
   ],
   "source": [
    "# Random Forest Algorithm\n",
    "from sklearn.ensemble import RandomForestRegressor\n",
    "rforest = RandomForestRegressor(n_estimators=20, random_state=0)\n",
    "rforest.fit(X_train, y_train)\n"
   ]
  },
  {
   "cell_type": "code",
   "execution_count": 120,
   "metadata": {},
   "outputs": [
    {
     "data": {
      "text/plain": [
       "0.9617084453612912"
      ]
     },
     "execution_count": 120,
     "metadata": {},
     "output_type": "execute_result"
    }
   ],
   "source": [
    "# So far, producing between 94 to 97% accuracy\n",
    "\n",
    "rforest.score(X_test,y_test)"
   ]
  },
  {
   "cell_type": "code",
   "execution_count": 123,
   "metadata": {},
   "outputs": [
    {
     "data": {
      "text/plain": [
       "array([6.14195728])"
      ]
     },
     "execution_count": 123,
     "metadata": {},
     "output_type": "execute_result"
    }
   ],
   "source": [
    "rforest.predict([[4]])"
   ]
  },
  {
   "cell_type": "code",
   "execution_count": null,
   "metadata": {},
   "outputs": [],
   "source": []
  },
  {
   "cell_type": "code",
   "execution_count": null,
   "metadata": {},
   "outputs": [],
   "source": []
  }
 ],
 "metadata": {
  "kernelspec": {
   "display_name": "Python 3",
   "language": "python",
   "name": "python3"
  },
  "language_info": {
   "codemirror_mode": {
    "name": "ipython",
    "version": 3
   },
   "file_extension": ".py",
   "mimetype": "text/x-python",
   "name": "python",
   "nbconvert_exporter": "python",
   "pygments_lexer": "ipython3",
   "version": "3.8.1"
  }
 },
 "nbformat": 4,
 "nbformat_minor": 4
}
