{
 "cells": [
  {
   "cell_type": "code",
   "execution_count": 101,
   "metadata": {},
   "outputs": [],
   "source": [
    "from sklearn.datasets import make_classification\n",
    "from matplotlib import pyplot as plt\n",
    "from sklearn.linear_model import LogisticRegression\n",
    "from sklearn.model_selection import train_test_split\n",
    "from sklearn.metrics import confusion_matrix\n",
    "import pandas as pd"
   ]
  },
  {
   "cell_type": "code",
   "execution_count": 102,
   "metadata": {},
   "outputs": [],
   "source": [
    "# Loading Formula One Dataset\n",
    "data = pd.read_csv('results.csv')"
   ]
  },
  {
   "cell_type": "markdown",
   "metadata": {},
   "source": [
    "#### Starts off with Formula One dataset being loaded from the results.csv file listed on :\n",
    "\n",
    "#### https://www.kaggle.com/cjgdev/formula-1-race-data-19502017#results.csv . \n",
    "\n",
    "#### It includes datapoints like driverId, positionOrder, points and fastestLap. "
   ]
  },
  {
   "cell_type": "code",
   "execution_count": 103,
   "metadata": {},
   "outputs": [
    {
     "data": {
      "text/plain": [
       "<bound method NDFrame.tail of        resultId  raceId  driverId  constructorId  number  grid  position  \\\n",
       "0             1      18         1              1    22.0     1       1.0   \n",
       "1             2      18         2              2     3.0     5       2.0   \n",
       "2             3      18         3              3     7.0     7       3.0   \n",
       "3             4      18         4              4     5.0    11       4.0   \n",
       "4             5      18         5              1    23.0     3       5.0   \n",
       "...         ...     ...       ...            ...     ...   ...       ...   \n",
       "23772     23777     988       842              5    10.0    17      16.0   \n",
       "23773     23778     988       828             15     9.0    19      17.0   \n",
       "23774     23779     988       840              3    18.0    15      18.0   \n",
       "23775     23780     988       832              4    55.0    12       NaN   \n",
       "23776     23781     988       817              9     3.0     4       NaN   \n",
       "\n",
       "      positionText  positionOrder  points  laps     time  milliseconds  \\\n",
       "0                1              1    10.0    58  34:50.6     5690616.0   \n",
       "1                2              2     8.0    58    5.478     5696094.0   \n",
       "2                3              3     6.0    58    8.163     5698779.0   \n",
       "3                4              4     5.0    58   17.181     5707797.0   \n",
       "4                5              5     4.0    58   18.014     5708630.0   \n",
       "...            ...            ...     ...   ...      ...           ...   \n",
       "23772           16             16     0.0    54      NaN           NaN   \n",
       "23773           17             17     0.0    54      NaN           NaN   \n",
       "23774           18             18     0.0    54      NaN           NaN   \n",
       "23775            R             19     0.0    31      NaN           NaN   \n",
       "23776            R             20     0.0    20      NaN           NaN   \n",
       "\n",
       "       fastestLap  rank fastestLapTime fastestLapSpeed  statusId  \n",
       "0            39.0   2.0        01:27.5           218.3         1  \n",
       "1            41.0   3.0        01:27.7         217.586         1  \n",
       "2            41.0   5.0        01:28.1         216.719         1  \n",
       "3            58.0   7.0        01:28.6         215.464         1  \n",
       "4            43.0   1.0        01:27.4         218.385         1  \n",
       "...           ...   ...            ...             ...       ...  \n",
       "23772        33.0  16.0        01:43.8         192.542        11  \n",
       "23773        36.0  15.0        01:43.6         193.057        11  \n",
       "23774        52.0   6.0        01:42.3         195.402        11  \n",
       "23775        26.0  14.0        01:43.4          193.41        36  \n",
       "23776        13.0  12.0        01:42.8         194.579         9  \n",
       "\n",
       "[23777 rows x 18 columns]>"
      ]
     },
     "execution_count": 103,
     "metadata": {},
     "output_type": "execute_result"
    }
   ],
   "source": [
    "# Display of variety of datapoints in \"results.csv\"\n",
    "data.tail"
   ]
  },
  {
   "cell_type": "code",
   "execution_count": 104,
   "metadata": {},
   "outputs": [],
   "source": [
    "# Reducing the number of datapoints, dropping ones which wouldn't improve results. \n",
    "# Also clearing rows with any empty fields. \n",
    "\n",
    "data = data.drop(['resultId','constructorId','statusId','positionText','fastestLapTime','time','milliseconds', 'grid', 'number'], axis = 1)\n",
    "data = data.dropna()\n",
    "data = data[data.raceId < 900]\n",
    "\n",
    "# Optional drop data = data[data.driverId < 200]\n",
    "# Previous datapoints : data = data.drop(['resultId', 'constructorId', 'number','grid','positionText','positionOrder','fastestLap','fastestLapTime', 'fastestLapSpeed', 'statusId','points','laps','time','milliseconds'], axis = 1)\n",
    "\n",
    "\n"
   ]
  },
  {
   "cell_type": "code",
   "execution_count": 105,
   "metadata": {},
   "outputs": [
    {
     "data": {
      "text/plain": [
       "<matplotlib.collections.PathCollection at 0x115298898>"
      ]
     },
     "execution_count": 105,
     "metadata": {},
     "output_type": "execute_result"
    },
    {
     "data": {
      "image/png": "[encoded data removed]",
      "text/plain": [
       "<Figure size 432x288 with 1 Axes>"
      ]
     },
     "metadata": {
      "needs_background": "light"
     },
     "output_type": "display_data"
    }
   ],
   "source": [
    "plt.scatter(data.driverId, data.position)"
   ]
  },
  {
   "cell_type": "code",
   "execution_count": 106,
   "metadata": {},
   "outputs": [
    {
     "data": {
      "text/plain": [
       "<bound method NDFrame.head of        raceId  driverId  position  positionOrder  points  laps  fastestLap  \\\n",
       "0          18         1       1.0              1    10.0    58        39.0   \n",
       "1          18         2       2.0              2     8.0    58        41.0   \n",
       "2          18         3       3.0              3     6.0    58        41.0   \n",
       "3          18         4       4.0              4     5.0    58        58.0   \n",
       "4          18         5       5.0              5     4.0    58        43.0   \n",
       "...       ...       ...       ...            ...     ...   ...         ...   \n",
       "22119     899       818      15.0             15     0.0    70        49.0   \n",
       "22120     899       813      16.0             16     0.0    70        45.0   \n",
       "22121     899       824      17.0             17     0.0    69        67.0   \n",
       "22122     899       823      18.0             18     0.0    69        51.0   \n",
       "22123     899       820      19.0             19     0.0    69        68.0   \n",
       "\n",
       "       rank fastestLapSpeed  \n",
       "0       2.0           218.3  \n",
       "1       3.0         217.586  \n",
       "2       5.0         216.719  \n",
       "3       7.0         215.464  \n",
       "4       1.0         218.385  \n",
       "...     ...             ...  \n",
       "22119  11.0          202.01  \n",
       "22120  18.0          200.02  \n",
       "22121  20.0         199.601  \n",
       "22122  19.0         199.927  \n",
       "22123  17.0         200.727  \n",
       "\n",
       "[3130 rows x 9 columns]>"
      ]
     },
     "execution_count": 106,
     "metadata": {},
     "output_type": "execute_result"
    }
   ],
   "source": [
    "# Remaining rows after filtering through data\n",
    "data.head\n"
   ]
  },
  {
   "cell_type": "code",
   "execution_count": 107,
   "metadata": {},
   "outputs": [],
   "source": [
    "#X_train, X_test, y_train, y_test = train_test_split(data.driverId, data.position)\n",
    "X_train, X_test, y_train, y_test = train_test_split(data.driverId, data.position, test_size=0.10)"
   ]
  },
  {
   "cell_type": "code",
   "execution_count": 108,
   "metadata": {},
   "outputs": [],
   "source": [
    "X_train = X_train.values.reshape(-1, 1)\n",
    "X_test = X_test.values.reshape(-1, 1)"
   ]
  },
  {
   "cell_type": "code",
   "execution_count": 110,
   "metadata": {},
   "outputs": [],
   "source": [
    "# Logistic Regression Algorithm\n",
    "lrmodel = LogisticRegression(max_iter=100000)\n"
   ]
  },
  {
   "cell_type": "code",
   "execution_count": 111,
   "metadata": {},
   "outputs": [
    {
     "data": {
      "text/plain": [
       "LogisticRegression(C=1.0, class_weight=None, dual=False, fit_intercept=True,\n",
       "                   intercept_scaling=1, l1_ratio=None, max_iter=100000,\n",
       "                   multi_class='auto', n_jobs=None, penalty='l2',\n",
       "                   random_state=None, solver='lbfgs', tol=0.0001, verbose=0,\n",
       "                   warm_start=False)"
      ]
     },
     "execution_count": 111,
     "metadata": {},
     "output_type": "execute_result"
    }
   ],
   "source": [
    "lrmodel.fit(X_train, y_train)"
   ]
  },
  {
   "cell_type": "code",
   "execution_count": 112,
   "metadata": {},
   "outputs": [
    {
     "data": {
      "text/plain": [
       "0.06389776357827476"
      ]
     },
     "execution_count": 112,
     "metadata": {},
     "output_type": "execute_result"
    }
   ],
   "source": [
    "lrmodel.score(X_test,y_test)"
   ]
  },
  {
   "cell_type": "code",
   "execution_count": 113,
   "metadata": {},
   "outputs": [
    {
     "data": {
      "text/plain": [
       "array([[9.25677415e-10, 1.59054844e-03, 1.94419286e-03, ...,\n",
       "        2.82093916e-03, 7.27559641e-06, 5.68045217e-18],\n",
       "       [9.39161141e-02, 7.26489598e-02, 7.27703240e-02, ...,\n",
       "        3.52914800e-03, 2.24630949e-03, 2.39731649e-03],\n",
       "       [9.39161141e-02, 7.26489598e-02, 7.27703240e-02, ...,\n",
       "        3.52914800e-03, 2.24630949e-03, 2.39731649e-03],\n",
       "       ...,\n",
       "       [8.00885343e-02, 7.16102353e-02, 7.18715786e-02, ...,\n",
       "        3.60499038e-03, 2.17264163e-03, 1.75767723e-03],\n",
       "       [7.38818455e-02, 7.10231981e-02, 7.13527794e-02, ...,\n",
       "        3.63976633e-03, 2.13451701e-03, 1.50348216e-03],\n",
       "       [7.23996345e-02, 7.08701410e-02, 7.12165801e-02, ...,\n",
       "        3.64814963e-03, 2.12487944e-03, 1.44575552e-03]])"
      ]
     },
     "execution_count": 113,
     "metadata": {},
     "output_type": "execute_result"
    }
   ],
   "source": [
    "lrmodel.predict_proba(X_test)"
   ]
  },
  {
   "cell_type": "code",
   "execution_count": 114,
   "metadata": {},
   "outputs": [
    {
     "data": {
      "text/plain": [
       "array([4.])"
      ]
     },
     "execution_count": 114,
     "metadata": {},
     "output_type": "execute_result"
    }
   ],
   "source": [
    "lrmodel.predict([[15]])"
   ]
  },
  {
   "cell_type": "markdown",
   "metadata": {},
   "source": [
    "## List of Top 20 F1 Racers, ranked by points since 1950\n",
    "\n",
    "#### 1 United Kingdom Lewis Hamilton\t250\t84\t39\t28\t151\t88\t47\t3431\n",
    "#### 2\tGermany Sebastian Vettel\t240\t53\t35\t32\t120\t57\t38\t2985\n",
    "#### 3\tSpain Fernando Alonso\t311\t32\t37\t28\t97\t22\t23\t1899\n",
    "#### 4\tFinland Kimi Räikkönen\t313\t21\t37\t45\t103\t18\t46\t1854\n",
    "#### 5\tGermany Nico Rosberg\t206\t23\t25\t9\t57\t30\t20\t1594.5\n",
    "#### 6\tGermany Michael Schumacher\t307\t91\t43\t21\t155\t68\t77\t1566\n",
    "#### 7\tFinland Valtteri Bottas\t139\t7\t22\t16\t45\t11\t13\t1289\n",
    "#### 8\tUnited Kingdom Jenson Button\t306\t15\t15\t20\t50\t8\t8\t1235\n",
    "#### 9\tBrazil Felipe Massa\t269\t11\t13\t17\t41\t16\t15\t1167\n",
    "#### 10\tAustralia Mark Webber\t215\t9\t16\t17\t42\t13\t19\t1047.5\n",
    "#### 11\tAustralia Daniel Ricciardo\t171\t7\t6\t16\t29\t3\t13\t1040\n",
    "#### 12\tNetherlands Max Verstappen\t102\t8\t11\t12\t31\t2\t7\t948\n",
    "#### 13\tFrance Alain Prost\t199\t51\t35\t20\t106\t33\t41\t798.5\n",
    "#### 14\tBrazil Rubens Barrichello\t322\t11\t29\t28\t68\t14\t17\t658\n",
    "#### 15\tBrazil Ayrton Senna\t161\t41\t23\t16\t80\t65\t19\t614\n",
    "#### 16\tMexico Sergio Pérez\t176\t0\t2\t6\t8\t0\t4\t580\n",
    "#### 17\tUnited Kingdom David Coulthard\t246\t13\t26\t23\t62\t12\t18\t535\n",
    "#### 18\tGermany Nico Hülkenberg\t178\t0\t0\t0\t0\t1\t2\t511\n",
    "#### 19\tBrazil Nelson Piquet\t204\t23\t20\t17\t60\t24\t23\t485.5\n",
    "#### 20\tUnited Kingdom Nigel Mansell\t188\t31\t17\t11\t59\t32\t30\t482\n",
    "\n",
    "## List of Drivers by driverId, based on drivers.csv\n",
    "\n",
    "#### 1\tLewis\tHamilton\n",
    "#### 2\tNick\tHeidfeld\n",
    "#### 3\tNico\tRosberg\n",
    "#### 4\tFernando\tAlonso\n",
    "#### 5\tHeikki\tKovalainen\n",
    "#### 6\tKazuki\tNakajima\n",
    "#### 7\tS̩bastien Bourdais\n",
    "#### 8\tKimi\tRaikk̦onen\n",
    "#### 9\tRobert\tKubica\n",
    "#### 10\tTimo\tGlock\n",
    "#### 11\tTakuma\tSato\n",
    "#### 12\tNelson\tPiquet Jr.\n",
    "#### 13\tFelipe\tMassa\n",
    "#### 14\tDavid\tCoulthard\n",
    "#### 15\tJarno\tTrulli\n",
    "#### 16\tAdrian\tSutil\n",
    "#### 17\tMark\tWebber\n",
    "#### 18\tJenson\tButton\n",
    "#### 19\tAnthony\tDavidson\n",
    "#### 20\tSebastian\tVettel\n",
    "#### 21\tGiancarlo\tFisichella\n",
    "#### 22\tRubens\tBarrichello\n",
    "#### 23\tRalf\tSchumacher\n",
    "#### 24\tVitantonio\tLiuzzi\n",
    "#### 25\tAlexander\tWurz"
   ]
  },
  {
   "cell_type": "code",
   "execution_count": 115,
   "metadata": {},
   "outputs": [],
   "source": [
    "# KNN Algorithm\n",
    "from sklearn.neighbors import KNeighborsRegressor\n",
    "knn = KNeighborsRegressor(algorithm='brute')"
   ]
  },
  {
   "cell_type": "code",
   "execution_count": 116,
   "metadata": {},
   "outputs": [
    {
     "data": {
      "text/plain": [
       "KNeighborsRegressor(algorithm='brute', leaf_size=30, metric='minkowski',\n",
       "                    metric_params=None, n_jobs=None, n_neighbors=5, p=2,\n",
       "                    weights='uniform')"
      ]
     },
     "execution_count": 116,
     "metadata": {},
     "output_type": "execute_result"
    }
   ],
   "source": [
    "knn.fit(X_train, y_train)"
   ]
  },
  {
   "cell_type": "code",
   "execution_count": 117,
   "metadata": {},
   "outputs": [
    {
     "data": {
      "text/plain": [
       "0.43621787680886426"
      ]
     },
     "execution_count": 117,
     "metadata": {},
     "output_type": "execute_result"
    }
   ],
   "source": [
    "knn.score(X_test,y_test)"
   ]
  },
  {
   "cell_type": "code",
   "execution_count": 118,
   "metadata": {},
   "outputs": [
    {
     "data": {
      "text/plain": [
       "array([5.])"
      ]
     },
     "execution_count": 118,
     "metadata": {},
     "output_type": "execute_result"
    }
   ],
   "source": [
    "knn.predict([[1]])"
   ]
  },
  {
   "cell_type": "code",
   "execution_count": 119,
   "metadata": {},
   "outputs": [
    {
     "data": {
      "text/plain": [
       "RandomForestRegressor(bootstrap=True, ccp_alpha=0.0, criterion='mse',\n",
       "                      max_depth=None, max_features='auto', max_leaf_nodes=None,\n",
       "                      max_samples=None, min_impurity_decrease=0.0,\n",
       "                      min_impurity_split=None, min_samples_leaf=1,\n",
       "                      min_samples_split=2, min_weight_fraction_leaf=0.0,\n",
       "                      n_estimators=20, n_jobs=None, oob_score=False,\n",
       "                      random_state=0, verbose=0, warm_start=False)"
      ]
     },
     "execution_count": 119,
     "metadata": {},
     "output_type": "execute_result"
    }
   ],
   "source": [
    "# Random Forest Algorithm\n",
    "from sklearn.ensemble import RandomForestRegressor\n",
    "rforest = RandomForestRegressor(n_estimators=20, random_state=0)\n",
    "rforest.fit(X_train, y_train)\n"
   ]
  },
  {
   "cell_type": "code",
   "execution_count": 120,
   "metadata": {},
   "outputs": [
    {
     "data": {
      "text/plain": [
       "0.4512343195146199"
      ]
     },
     "execution_count": 120,
     "metadata": {},
     "output_type": "execute_result"
    }
   ],
   "source": [
    "# So far, producing between 44 to 47% accuracy\n",
    "\n",
    "rforest.score(X_test,y_test)"
   ]
  },
  {
   "cell_type": "code",
   "execution_count": 121,
   "metadata": {},
   "outputs": [
    {
     "data": {
      "text/plain": [
       "array([3.94358192])"
      ]
     },
     "execution_count": 121,
     "metadata": {},
     "output_type": "execute_result"
    }
   ],
   "source": [
    "rforest.predict([[4]])"
   ]
  },
  {
   "cell_type": "code",
   "execution_count": null,
   "metadata": {},
   "outputs": [],
   "source": []
  }
 ],
 "metadata": {
  "kernelspec": {
   "display_name": "Python 3",
   "language": "python",
   "name": "python3"
  },
  "language_info": {
   "codemirror_mode": {
    "name": "ipython",
    "version": 3
   },
   "file_extension": ".py",
   "mimetype": "text/x-python",
   "name": "python",
   "nbconvert_exporter": "python",
   "pygments_lexer": "ipython3",
   "version": "3.5.9"
  }
 },
 "nbformat": 4,
 "nbformat_minor": 4
}
