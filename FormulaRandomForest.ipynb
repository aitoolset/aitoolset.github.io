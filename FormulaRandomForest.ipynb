{
 "cells": [
  {
   "cell_type": "code",
   "execution_count": 101,
   "metadata": {},
   "outputs": [],
   "source": [
    "from sklearn.datasets import make_classification\n",
    "from matplotlib import pyplot as plt\n",
    "from sklearn.linear_model import LogisticRegression\n",
    "from sklearn.model_selection import train_test_split\n",
    "from sklearn.metrics import confusion_matrix\n",
    "import pandas as pd"
   ]
  },
  {
   "cell_type": "code",
   "execution_count": 102,
   "metadata": {},
   "outputs": [],
   "source": [
    "# Loading Formula One Dataset\n",
    "data = pd.read_csv('results.csv')"
   ]
  },
  {
   "cell_type": "markdown",
   "metadata": {},
   "source": [
    "#### Starts off with Formula One dataset being loaded from the results.csv file listed on :\n",
    "\n",
    "#### https://www.kaggle.com/cjgdev/formula-1-race-data-19502017#results.csv . \n",
    "\n",
    "#### It includes datapoints like driverId, positionOrder, points and fastestLap. "
   ]
  },
  {
   "cell_type": "code",
   "execution_count": 103,
   "metadata": {},
   "outputs": [
    {
     "data": {
      "text/plain": [
       "<bound method NDFrame.tail of        resultId  raceId  driverId  constructorId  number  grid  position  \\\n",
       "0             1      18         1              1    22.0     1       1.0   \n",
       "1             2      18         2              2     3.0     5       2.0   \n",
       "2             3      18         3              3     7.0     7       3.0   \n",
       "3             4      18         4              4     5.0    11       4.0   \n",
       "4             5      18         5              1    23.0     3       5.0   \n",
       "...         ...     ...       ...            ...     ...   ...       ...   \n",
       "23772     23777     988       842              5    10.0    17      16.0   \n",
       "23773     23778     988       828             15     9.0    19      17.0   \n",
       "23774     23779     988       840              3    18.0    15      18.0   \n",
       "23775     23780     988       832              4    55.0    12       NaN   \n",
       "23776     23781     988       817              9     3.0     4       NaN   \n",
       "\n",
       "      positionText  positionOrder  points  laps     time  milliseconds  \\\n",
       "0                1              1    10.0    58  34:50.6     5690616.0   \n",
       "1                2              2     8.0    58    5.478     5696094.0   \n",
       "2                3              3     6.0    58    8.163     5698779.0   \n",
       "3                4              4     5.0    58   17.181     5707797.0   \n",
       "4                5              5     4.0    58   18.014     5708630.0   \n",
       "...            ...            ...     ...   ...      ...           ...   \n",
       "23772           16             16     0.0    54      NaN           NaN   \n",
       "23773           17             17     0.0    54      NaN           NaN   \n",
       "23774           18             18     0.0    54      NaN           NaN   \n",
       "23775            R             19     0.0    31      NaN           NaN   \n",
       "23776            R             20     0.0    20      NaN           NaN   \n",
       "\n",
       "       fastestLap  rank fastestLapTime fastestLapSpeed  statusId  \n",
       "0            39.0   2.0        01:27.5           218.3         1  \n",
       "1            41.0   3.0        01:27.7         217.586         1  \n",
       "2            41.0   5.0        01:28.1         216.719         1  \n",
       "3            58.0   7.0        01:28.6         215.464         1  \n",
       "4            43.0   1.0        01:27.4         218.385         1  \n",
       "...           ...   ...            ...             ...       ...  \n",
       "23772        33.0  16.0        01:43.8         192.542        11  \n",
       "23773        36.0  15.0        01:43.6         193.057        11  \n",
       "23774        52.0   6.0        01:42.3         195.402        11  \n",
       "23775        26.0  14.0        01:43.4          193.41        36  \n",
       "23776        13.0  12.0        01:42.8         194.579         9  \n",
       "\n",
       "[23777 rows x 18 columns]>"
      ]
     },
     "execution_count": 103,
     "metadata": {},
     "output_type": "execute_result"
    }
   ],
   "source": [
    "# Display of variety of datapoints in \"results.csv\"\n",
    "data.tail"
   ]
  },
  {
   "cell_type": "code",
   "execution_count": 104,
   "metadata": {},
   "outputs": [],
   "source": [
    "# Reducing the number of datapoints, dropping ones which wouldn't improve results. \n",
    "# Also clearing rows with any empty fields. \n",
    "\n",
    "data = data.drop(['resultId','constructorId','statusId','positionText','fastestLapTime','time','milliseconds', 'grid', 'number'], axis = 1)\n",
    "data = data.dropna()\n",
    "# data = data[data.raceId < 900]\n",
    "\n",
    "# Optional drop data = data[data.driverId < 200]\n",
    "# Previous datapoints : data = data.drop(['resultId', 'constructorId', 'number','grid','positionText','positionOrder','fastestLap','fastestLapTime', 'fastestLapSpeed', 'statusId','points','laps','time','milliseconds'], axis = 1)\n",
    "\n",
    "\n"
   ]
  },
  {
   "cell_type": "code",
   "execution_count": 105,
   "metadata": {},
   "outputs": [
    {
     "data": {
      "text/plain": [
       "<matplotlib.collections.PathCollection at 0x117b46cc0>"
      ]
     },
     "execution_count": 105,
     "metadata": {},
     "output_type": "execute_result"
    },
    {
     "data": {
      "image/png": "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\n",
      "text/plain": [
       "<Figure size 432x288 with 1 Axes>"
      ]
     },
     "metadata": {
      "needs_background": "light"
     },
     "output_type": "display_data"
    }
   ],
   "source": [
    "plt.scatter(data.driverId, data.position)"
   ]
  },
  {
   "cell_type": "code",
   "execution_count": 106,
   "metadata": {},
   "outputs": [
    {
     "data": {
      "text/plain": [
       "<bound method NDFrame.head of        raceId  driverId  position  positionOrder  points  laps  fastestLap  \\\n",
       "0          18         1       1.0              1    10.0    58        39.0   \n",
       "1          18         2       2.0              2     8.0    58        41.0   \n",
       "2          18         3       3.0              3     6.0    58        41.0   \n",
       "3          18         4       4.0              4     5.0    58        58.0   \n",
       "4          18         5       5.0              5     4.0    58        43.0   \n",
       "...       ...       ...       ...            ...     ...   ...         ...   \n",
       "23770     988       836      14.0             14     0.0    54        50.0   \n",
       "23771     988       843      15.0             15     0.0    54        52.0   \n",
       "23772     988       842      16.0             16     0.0    54        33.0   \n",
       "23773     988       828      17.0             17     0.0    54        36.0   \n",
       "23774     988       840      18.0             18     0.0    54        52.0   \n",
       "\n",
       "       rank fastestLapSpeed  \n",
       "0       2.0           218.3  \n",
       "1       3.0         217.586  \n",
       "2       5.0         216.719  \n",
       "3       7.0         215.464  \n",
       "4       1.0         218.385  \n",
       "...     ...             ...  \n",
       "23770  17.0           192.5  \n",
       "23771  18.0         192.444  \n",
       "23772  16.0         192.542  \n",
       "23773  15.0         193.057  \n",
       "23774   6.0         195.402  \n",
       "\n",
       "[4456 rows x 9 columns]>"
      ]
     },
     "execution_count": 106,
     "metadata": {},
     "output_type": "execute_result"
    }
   ],
   "source": [
    "# Remaining rows after filtering through data\n",
    "data.head\n"
   ]
  },
  {
   "cell_type": "code",
   "execution_count": 107,
   "metadata": {},
   "outputs": [],
   "source": [
    "#X_train, X_test, y_train, y_test = train_test_split(data.driverId, data.position)\n",
    "X_train, X_test, y_train, y_test = train_test_split(data.driverId, data.position, test_size=0.10)"
   ]
  },
  {
   "cell_type": "code",
   "execution_count": 108,
   "metadata": {},
   "outputs": [],
   "source": [
    "X_train = X_train.values.reshape(-1, 1)\n",
    "X_test = X_test.values.reshape(-1, 1)"
   ]
  },
  {
   "cell_type": "code",
   "execution_count": 98,
   "metadata": {},
   "outputs": [],
   "source": [
    "# Logistic Regression Algorithm\n",
<<<<<<< HEAD
    "lrmodel = LogisticRegression(max_iter=200000)"
=======
    "lrmodel = LogisticRegression(max_iter=100000)\n"
>>>>>>> origin/master
   ]
  },
  {
   "cell_type": "code",
   "execution_count": 74,
   "metadata": {},
   "outputs": [
    {
     "data": {
      "text/plain": [
       "LogisticRegression(C=1.0, class_weight=None, dual=False, fit_intercept=True,\n",
       "                   intercept_scaling=1, l1_ratio=None, max_iter=200000,\n",
       "                   multi_class='auto', n_jobs=None, penalty='l2',\n",
       "                   random_state=None, solver='lbfgs', tol=0.0001, verbose=0,\n",
       "                   warm_start=False)"
      ]
     },
     "execution_count": 74,
     "metadata": {},
     "output_type": "execute_result"
    }
   ],
   "source": [
    "lrmodel.fit(X_train, y_train)"
   ]
  },
  {
   "cell_type": "code",
   "execution_count": 75,
   "metadata": {},
   "outputs": [
    {
     "data": {
      "text/plain": [
       "0.0926517571884984"
      ]
     },
     "execution_count": 75,
     "metadata": {},
     "output_type": "execute_result"
    }
   ],
   "source": [
    "lrmodel.score(X_test,y_test)"
   ]
  },
  {
   "cell_type": "code",
   "execution_count": 76,
   "metadata": {},
   "outputs": [
    {
     "data": {
      "text/plain": [
       "array([[0.07120046, 0.07098638, 0.07192122, ..., 0.00336851, 0.00100265,\n",
       "        0.00090609],\n",
       "       [0.06842471, 0.06930719, 0.070701  , ..., 0.00342116, 0.0009934 ,\n",
       "        0.00087537],\n",
       "       [0.0696032 , 0.07002432, 0.07122383, ..., 0.00339861, 0.00099739,\n",
       "        0.00088844],\n",
       "       ...,\n",
       "       [0.07039811, 0.07050452, 0.07157249, ..., 0.00338357, 0.00100003,\n",
       "        0.00089723],\n",
       "       [0.06764825, 0.06883124, 0.07035259, ..., 0.00343618, 0.00099072,\n",
       "        0.00086674],\n",
       "       [0.06424395, 0.0667111 , 0.06878679, ..., 0.00350361, 0.00097849,\n",
       "        0.00082873]])"
      ]
     },
     "execution_count": 76,
     "metadata": {},
     "output_type": "execute_result"
    }
   ],
   "source": [
    "lrmodel.predict_proba(X_test)"
   ]
  },
  {
   "cell_type": "code",
   "execution_count": 45,
   "metadata": {},
   "outputs": [
    {
     "data": {
      "text/plain": [
       "array([5.])"
      ]
     },
     "execution_count": 45,
     "metadata": {},
     "output_type": "execute_result"
    }
   ],
   "source": [
    "lrmodel.predict([[15]])"
   ]
  },
  {
   "cell_type": "markdown",
   "metadata": {},
   "source": [
    "## List of Top 20 F1 Racers, ranked by points since 1950\n",
    "\n",
    "#### 1 United Kingdom Lewis Hamilton\t250\t84\t39\t28\t151\t88\t47\t3431\n",
    "#### 2\tGermany Sebastian Vettel\t240\t53\t35\t32\t120\t57\t38\t2985\n",
    "#### 3\tSpain Fernando Alonso\t311\t32\t37\t28\t97\t22\t23\t1899\n",
    "#### 4\tFinland Kimi Räikkönen\t313\t21\t37\t45\t103\t18\t46\t1854\n",
    "#### 5\tGermany Nico Rosberg\t206\t23\t25\t9\t57\t30\t20\t1594.5\n",
    "#### 6\tGermany Michael Schumacher\t307\t91\t43\t21\t155\t68\t77\t1566\n",
    "#### 7\tFinland Valtteri Bottas\t139\t7\t22\t16\t45\t11\t13\t1289\n",
    "#### 8\tUnited Kingdom Jenson Button\t306\t15\t15\t20\t50\t8\t8\t1235\n",
    "#### 9\tBrazil Felipe Massa\t269\t11\t13\t17\t41\t16\t15\t1167\n",
    "#### 10\tAustralia Mark Webber\t215\t9\t16\t17\t42\t13\t19\t1047.5\n",
    "#### 11\tAustralia Daniel Ricciardo\t171\t7\t6\t16\t29\t3\t13\t1040\n",
    "#### 12\tNetherlands Max Verstappen\t102\t8\t11\t12\t31\t2\t7\t948\n",
    "#### 13\tFrance Alain Prost\t199\t51\t35\t20\t106\t33\t41\t798.5\n",
    "#### 14\tBrazil Rubens Barrichello\t322\t11\t29\t28\t68\t14\t17\t658\n",
    "#### 15\tBrazil Ayrton Senna\t161\t41\t23\t16\t80\t65\t19\t614\n",
    "#### 16\tMexico Sergio Pérez\t176\t0\t2\t6\t8\t0\t4\t580\n",
    "#### 17\tUnited Kingdom David Coulthard\t246\t13\t26\t23\t62\t12\t18\t535\n",
    "#### 18\tGermany Nico Hülkenberg\t178\t0\t0\t0\t0\t1\t2\t511\n",
    "#### 19\tBrazil Nelson Piquet\t204\t23\t20\t17\t60\t24\t23\t485.5\n",
    "#### 20\tUnited Kingdom Nigel Mansell\t188\t31\t17\t11\t59\t32\t30\t482\n",
    "\n",
    "## List of Drivers by driverId, based on drivers.csv\n",
    "\n",
    "#### 1\tLewis\tHamilton\n",
    "#### 2\tNick\tHeidfeld\n",
    "#### 3\tNico\tRosberg\n",
    "#### 4\tFernando\tAlonso\n",
    "#### 5\tHeikki\tKovalainen\n",
    "#### 6\tKazuki\tNakajima\n",
    "#### 7\tS̩bastien Bourdais\n",
    "#### 8\tKimi\tRaikk̦onen\n",
    "#### 9\tRobert\tKubica\n",
    "#### 10\tTimo\tGlock\n",
    "#### 11\tTakuma\tSato\n",
    "#### 12\tNelson\tPiquet Jr.\n",
    "#### 13\tFelipe\tMassa\n",
    "#### 14\tDavid\tCoulthard\n",
    "#### 15\tJarno\tTrulli\n",
    "#### 16\tAdrian\tSutil\n",
    "#### 17\tMark\tWebber\n",
    "#### 18\tJenson\tButton\n",
    "#### 19\tAnthony\tDavidson\n",
    "#### 20\tSebastian\tVettel\n",
    "#### 21\tGiancarlo\tFisichella\n",
    "#### 22\tRubens\tBarrichello\n",
    "#### 23\tRalf\tSchumacher\n",
    "#### 24\tVitantonio\tLiuzzi\n",
    "#### 25\tAlexander\tWurz"
   ]
  },
  {
   "cell_type": "code",
   "execution_count": 61,
   "metadata": {},
   "outputs": [],
   "source": [
    "# KNN Algorithm\n",
    "from sklearn.neighbors import KNeighborsRegressor\n",
    "knn = KNeighborsRegressor(algorithm='brute')"
   ]
  },
  {
   "cell_type": "code",
   "execution_count": 62,
   "metadata": {},
   "outputs": [
    {
     "data": {
      "text/plain": [
       "KNeighborsRegressor(algorithm='brute', leaf_size=30, metric='minkowski',\n",
       "                    metric_params=None, n_jobs=None, n_neighbors=5, p=2,\n",
       "                    weights='uniform')"
      ]
     },
     "execution_count": 62,
     "metadata": {},
     "output_type": "execute_result"
    }
   ],
   "source": [
    "knn.fit(X_train, y_train)"
   ]
  },
  {
   "cell_type": "code",
   "execution_count": 63,
   "metadata": {},
   "outputs": [
    {
     "data": {
      "text/plain": [
       "0.34731912380305485"
      ]
     },
     "execution_count": 63,
     "metadata": {},
     "output_type": "execute_result"
    }
   ],
   "source": [
    "knn.score(X_test,y_test)"
   ]
  },
  {
   "cell_type": "code",
   "execution_count": 64,
   "metadata": {},
   "outputs": [
    {
     "data": {
      "text/plain": [
       "array([3.6])"
      ]
     },
     "execution_count": 64,
     "metadata": {},
     "output_type": "execute_result"
    }
   ],
   "source": [
    "knn.predict([[1]])"
   ]
  },
  {
   "cell_type": "code",
   "execution_count": 109,
   "metadata": {},
   "outputs": [
    {
     "data": {
      "text/plain": [
       "RandomForestRegressor(bootstrap=True, ccp_alpha=0.0, criterion='mse',\n",
       "                      max_depth=None, max_features='auto', max_leaf_nodes=None,\n",
       "                      max_samples=None, min_impurity_decrease=0.0,\n",
       "                      min_impurity_split=None, min_samples_leaf=1,\n",
       "                      min_samples_split=2, min_weight_fraction_leaf=0.0,\n",
       "                      n_estimators=20, n_jobs=None, oob_score=False,\n",
       "                      random_state=0, verbose=0, warm_start=False)"
      ]
     },
     "execution_count": 109,
     "metadata": {},
     "output_type": "execute_result"
    }
   ],
   "source": [
    "# Random Forest Algorithm\n",
    "from sklearn.ensemble import RandomForestRegressor\n",
    "rforest = RandomForestRegressor(n_estimators=20, random_state=0)\n",
    "rforest.fit(X_train, y_train)\n"
   ]
  },
  {
   "cell_type": "code",
   "execution_count": 110,
   "metadata": {},
   "outputs": [
    {
     "data": {
      "text/plain": [
       "0.44399684992558797"
      ]
     },
     "execution_count": 110,
     "metadata": {},
     "output_type": "execute_result"
    }
   ],
   "source": [
    "# So far, producing between 44 to 47% accuracy\n",
    "\n",
    "rforest.score(X_test,y_test)"
   ]
  },
  {
   "cell_type": "code",
   "execution_count": 111,
   "metadata": {},
   "outputs": [
    {
     "data": {
      "text/plain": [
       "array([5.36742288])"
      ]
     },
     "execution_count": 111,
     "metadata": {},
     "output_type": "execute_result"
    }
   ],
   "source": [
    "rforest.predict([[4]])"
   ]
  },
  {
   "cell_type": "code",
   "execution_count": null,
   "metadata": {},
   "outputs": [],
   "source": []
  },
  {
   "cell_type": "code",
   "execution_count": null,
   "metadata": {},
   "outputs": [],
   "source": []
  }
 ],
 "metadata": {
  "kernelspec": {
   "display_name": "Python 3",
   "language": "python",
   "name": "python3"
  },
  "language_info": {
   "codemirror_mode": {
    "name": "ipython",
    "version": 3
   },
   "file_extension": ".py",
   "mimetype": "text/x-python",
   "name": "python",
   "nbconvert_exporter": "python",
   "pygments_lexer": "ipython3",
   "version": "3.5.9"
  }
 },
 "nbformat": 4,
 "nbformat_minor": 4
}
