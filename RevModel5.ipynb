{
 "cells": [
  {
   "cell_type": "code",
   "execution_count": 582,
   "metadata": {},
   "outputs": [],
   "source": [
    "from sklearn.datasets import make_classification\n",
    "from matplotlib import pyplot as plt\n",
    "from sklearn.linear_model import LogisticRegression\n",
    "from sklearn.model_selection import train_test_split\n",
    "from sklearn.metrics import confusion_matrix\n",
    "import pandas as pd"
   ]
  },
  {
   "cell_type": "code",
   "execution_count": 649,
   "metadata": {},
   "outputs": [],
   "source": [
    "data = pd.read_csv('results.csv')"
   ]
  },
  {
   "cell_type": "code",
   "execution_count": 650,
   "metadata": {},
   "outputs": [
    {
     "data": {
      "text/plain": [
       "<bound method NDFrame.tail of        resultId  raceId  driverId  constructorId  number  grid  position  \\\n",
       "0             1      18         1              1    22.0     1       1.0   \n",
       "1             2      18         2              2     3.0     5       2.0   \n",
       "2             3      18         3              3     7.0     7       3.0   \n",
       "3             4      18         4              4     5.0    11       4.0   \n",
       "4             5      18         5              1    23.0     3       5.0   \n",
       "...         ...     ...       ...            ...     ...   ...       ...   \n",
       "23772     23777     988       842              5    10.0    17      16.0   \n",
       "23773     23778     988       828             15     9.0    19      17.0   \n",
       "23774     23779     988       840              3    18.0    15      18.0   \n",
       "23775     23780     988       832              4    55.0    12       NaN   \n",
       "23776     23781     988       817              9     3.0     4       NaN   \n",
       "\n",
       "      positionText  positionOrder  points  laps     time  milliseconds  \\\n",
       "0                1              1    10.0    58  34:50.6     5690616.0   \n",
       "1                2              2     8.0    58    5.478     5696094.0   \n",
       "2                3              3     6.0    58    8.163     5698779.0   \n",
       "3                4              4     5.0    58   17.181     5707797.0   \n",
       "4                5              5     4.0    58   18.014     5708630.0   \n",
       "...            ...            ...     ...   ...      ...           ...   \n",
       "23772           16             16     0.0    54      NaN           NaN   \n",
       "23773           17             17     0.0    54      NaN           NaN   \n",
       "23774           18             18     0.0    54      NaN           NaN   \n",
       "23775            R             19     0.0    31      NaN           NaN   \n",
       "23776            R             20     0.0    20      NaN           NaN   \n",
       "\n",
       "       fastestLap  rank fastestLapTime fastestLapSpeed  statusId  \n",
       "0            39.0   2.0        01:27.5           218.3         1  \n",
       "1            41.0   3.0        01:27.7         217.586         1  \n",
       "2            41.0   5.0        01:28.1         216.719         1  \n",
       "3            58.0   7.0        01:28.6         215.464         1  \n",
       "4            43.0   1.0        01:27.4         218.385         1  \n",
       "...           ...   ...            ...             ...       ...  \n",
       "23772        33.0  16.0        01:43.8         192.542        11  \n",
       "23773        36.0  15.0        01:43.6         193.057        11  \n",
       "23774        52.0   6.0        01:42.3         195.402        11  \n",
       "23775        26.0  14.0        01:43.4          193.41        36  \n",
       "23776        13.0  12.0        01:42.8         194.579         9  \n",
       "\n",
       "[23777 rows x 18 columns]>"
      ]
     },
     "execution_count": 650,
     "metadata": {},
     "output_type": "execute_result"
    }
   ],
   "source": [
    "data.tail"
   ]
  },
  {
   "cell_type": "code",
   "execution_count": 651,
   "metadata": {},
   "outputs": [],
   "source": [
    "data = data.drop(['resultId', 'constructorId','statusId','positionText','fastestLapTime','time','milliseconds', 'grid', 'number', 'rank'], axis = 1)\n",
    "data = data.dropna()\n",
    "data = data[data.raceId < 900]\n",
    "data = data[data.driverId < 120]\n",
    "# data = data.drop(['resultId', 'constructorId', 'number','grid','positionText','positionOrder','fastestLap','fastestLapTime', 'fastestLapSpeed', 'statusId','points','laps','time','milliseconds'], axis = 1)\n",
    "\n",
    "\n"
   ]
  },
  {
   "cell_type": "code",
   "execution_count": 652,
   "metadata": {},
   "outputs": [
    {
     "data": {
      "text/plain": [
       "<matplotlib.collections.PathCollection at 0x125f8def0>"
      ]
     },
     "execution_count": 652,
     "metadata": {},
     "output_type": "execute_result"
    },
    {
     "data": {
      "image/png": "[encoded data removed]",
      "text/plain": [
       "<Figure size 432x288 with 1 Axes>"
      ]
     },
     "metadata": {
      "needs_background": "light"
     },
     "output_type": "display_data"
    }
   ],
   "source": [
    "plt.scatter(data.driverId, data.position)"
   ]
  },
  {
   "cell_type": "code",
   "execution_count": 653,
   "metadata": {},
   "outputs": [
    {
     "data": {
      "text/plain": [
       "<bound method NDFrame.head of        raceId  driverId  position  positionOrder  points  laps  fastestLap  \\\n",
       "0          18         1       1.0              1    10.0    58        39.0   \n",
       "1          18         2       2.0              2     8.0    58        41.0   \n",
       "2          18         3       3.0              3     6.0    58        41.0   \n",
       "3          18         4       4.0              4     5.0    58        58.0   \n",
       "4          18         5       5.0              5     4.0    58        43.0   \n",
       "...       ...       ...       ...            ...     ...   ...         ...   \n",
       "22109     899         3       5.0              5    10.0    71        60.0   \n",
       "22111     899        13       7.0              7     6.0    71        49.0   \n",
       "22113     899         1       9.0              9     2.0    71        51.0   \n",
       "22117     899        16      13.0             13     0.0    70        57.0   \n",
       "22118     899         5      14.0             14     0.0    70        70.0   \n",
       "\n",
       "      fastestLapSpeed  \n",
       "0               218.3  \n",
       "1             217.586  \n",
       "2             216.719  \n",
       "3             215.464  \n",
       "4             218.385  \n",
       "...               ...  \n",
       "22109          202.93  \n",
       "22111         202.856  \n",
       "22113         202.268  \n",
       "22117         203.979  \n",
       "22118          200.81  \n",
       "\n",
       "[2524 rows x 8 columns]>"
      ]
     },
     "execution_count": 653,
     "metadata": {},
     "output_type": "execute_result"
    }
   ],
   "source": [
    "data.head\n"
   ]
  },
  {
   "cell_type": "code",
   "execution_count": 654,
   "metadata": {},
   "outputs": [],
   "source": [
    "#X_train, X_test, y_train, y_test = train_test_split(data.driverId, data.position)\n",
    "X_train, X_test, y_train, y_test = train_test_split(data.driverId, data.position, test_size=0.10)"
   ]
  },
  {
   "cell_type": "code",
   "execution_count": 655,
   "metadata": {},
   "outputs": [],
   "source": [
    "X_train = X_train.values.reshape(-1, 1)\n",
    "X_test = X_test.values.reshape(-1, 1)"
   ]
  },
  {
   "cell_type": "code",
   "execution_count": 656,
   "metadata": {},
   "outputs": [
    {
     "data": {
      "text/plain": [
       "array([[ 3],\n",
       "       [ 4],\n",
       "       [13],\n",
       "       [ 3],\n",
       "       [23],\n",
       "       [16],\n",
       "       [39],\n",
       "       [ 3],\n",
       "       [14],\n",
       "       [29],\n",
       "       [ 1],\n",
       "       [21],\n",
       "       [19],\n",
       "       [ 9],\n",
       "       [22],\n",
       "       [ 8],\n",
       "       [16],\n",
       "       [14],\n",
       "       [ 1],\n",
       "       [20],\n",
       "       [18],\n",
       "       [16],\n",
       "       [37],\n",
       "       [22],\n",
       "       [39],\n",
       "       [13],\n",
       "       [20],\n",
       "       [ 4],\n",
       "       [22],\n",
       "       [13],\n",
       "       [23],\n",
       "       [ 3],\n",
       "       [17],\n",
       "       [ 4],\n",
       "       [ 5],\n",
       "       [39],\n",
       "       [17],\n",
       "       [ 5],\n",
       "       [67],\n",
       "       [32],\n",
       "       [13],\n",
       "       [13],\n",
       "       [ 2],\n",
       "       [24],\n",
       "       [ 3],\n",
       "       [ 1],\n",
       "       [ 5],\n",
       "       [13],\n",
       "       [ 8],\n",
       "       [23],\n",
       "       [ 2],\n",
       "       [ 3],\n",
       "       [18],\n",
       "       [ 8],\n",
       "       [ 4],\n",
       "       [11],\n",
       "       [19],\n",
       "       [14],\n",
       "       [ 9],\n",
       "       [ 4],\n",
       "       [22],\n",
       "       [18],\n",
       "       [10],\n",
       "       [13],\n",
       "       [22],\n",
       "       [15],\n",
       "       [67],\n",
       "       [26],\n",
       "       [32],\n",
       "       [ 2],\n",
       "       [26],\n",
       "       [30],\n",
       "       [ 3],\n",
       "       [ 8],\n",
       "       [32],\n",
       "       [ 3],\n",
       "       [ 3],\n",
       "       [18],\n",
       "       [17],\n",
       "       [67],\n",
       "       [13],\n",
       "       [ 5],\n",
       "       [ 3],\n",
       "       [ 5],\n",
       "       [ 1],\n",
       "       [ 5],\n",
       "       [15],\n",
       "       [19],\n",
       "       [27],\n",
       "       [15],\n",
       "       [21],\n",
       "       [31],\n",
       "       [46],\n",
       "       [ 2],\n",
       "       [37],\n",
       "       [10],\n",
       "       [ 3],\n",
       "       [ 8],\n",
       "       [18],\n",
       "       [ 8],\n",
       "       [10],\n",
       "       [20],\n",
       "       [30],\n",
       "       [ 1],\n",
       "       [ 2],\n",
       "       [33],\n",
       "       [ 9],\n",
       "       [15],\n",
       "       [ 9],\n",
       "       [11],\n",
       "       [ 5],\n",
       "       [ 7],\n",
       "       [ 8],\n",
       "       [22],\n",
       "       [18],\n",
       "       [10],\n",
       "       [47],\n",
       "       [35],\n",
       "       [10],\n",
       "       [15],\n",
       "       [30],\n",
       "       [15],\n",
       "       [22],\n",
       "       [17],\n",
       "       [ 1],\n",
       "       [ 9],\n",
       "       [19],\n",
       "       [21],\n",
       "       [ 5],\n",
       "       [14],\n",
       "       [14],\n",
       "       [13],\n",
       "       [23],\n",
       "       [16],\n",
       "       [22],\n",
       "       [ 8],\n",
       "       [31],\n",
       "       [ 1],\n",
       "       [13],\n",
       "       [13],\n",
       "       [22],\n",
       "       [13],\n",
       "       [15],\n",
       "       [10],\n",
       "       [41],\n",
       "       [15],\n",
       "       [33],\n",
       "       [ 2],\n",
       "       [10],\n",
       "       [ 1],\n",
       "       [ 8],\n",
       "       [ 3],\n",
       "       [27],\n",
       "       [20],\n",
       "       [ 2],\n",
       "       [13],\n",
       "       [18],\n",
       "       [ 9],\n",
       "       [16],\n",
       "       [ 4],\n",
       "       [18],\n",
       "       [ 1],\n",
       "       [47],\n",
       "       [18],\n",
       "       [21],\n",
       "       [ 4],\n",
       "       [20],\n",
       "       [ 5],\n",
       "       [ 9],\n",
       "       [ 9],\n",
       "       [13],\n",
       "       [18],\n",
       "       [ 3],\n",
       "       [ 2],\n",
       "       [22],\n",
       "       [ 9],\n",
       "       [13],\n",
       "       [17],\n",
       "       [13],\n",
       "       [22],\n",
       "       [13],\n",
       "       [22],\n",
       "       [17],\n",
       "       [17],\n",
       "       [25],\n",
       "       [11],\n",
       "       [ 5],\n",
       "       [24],\n",
       "       [ 4],\n",
       "       [44],\n",
       "       [30],\n",
       "       [ 9],\n",
       "       [ 2],\n",
       "       [ 4],\n",
       "       [17],\n",
       "       [17],\n",
       "       [17],\n",
       "       [16],\n",
       "       [22],\n",
       "       [18],\n",
       "       [17],\n",
       "       [ 3],\n",
       "       [30],\n",
       "       [21],\n",
       "       [17],\n",
       "       [ 8],\n",
       "       [ 3],\n",
       "       [16],\n",
       "       [15],\n",
       "       [39],\n",
       "       [40],\n",
       "       [18],\n",
       "       [ 1],\n",
       "       [22],\n",
       "       [17],\n",
       "       [ 1],\n",
       "       [13],\n",
       "       [13],\n",
       "       [24],\n",
       "       [16],\n",
       "       [33],\n",
       "       [12],\n",
       "       [27],\n",
       "       [ 1],\n",
       "       [17],\n",
       "       [38],\n",
       "       [13],\n",
       "       [13],\n",
       "       [21],\n",
       "       [ 7],\n",
       "       [ 5],\n",
       "       [ 8],\n",
       "       [22],\n",
       "       [30],\n",
       "       [10],\n",
       "       [ 1],\n",
       "       [ 5],\n",
       "       [ 6],\n",
       "       [ 4],\n",
       "       [ 4],\n",
       "       [20],\n",
       "       [17],\n",
       "       [ 4],\n",
       "       [ 5],\n",
       "       [ 5],\n",
       "       [16],\n",
       "       [10],\n",
       "       [ 3],\n",
       "       [27],\n",
       "       [18],\n",
       "       [ 4],\n",
       "       [20],\n",
       "       [20]])"
      ]
     },
     "execution_count": 656,
     "metadata": {},
     "output_type": "execute_result"
    }
   ],
   "source": [
    "X_test"
   ]
  },
  {
   "cell_type": "code",
   "execution_count": 657,
   "metadata": {},
   "outputs": [],
   "source": [
    "lrmodel = LogisticRegression()"
   ]
  },
  {
   "cell_type": "code",
   "execution_count": 658,
   "metadata": {},
   "outputs": [
    {
     "name": "stderr",
     "output_type": "stream",
     "text": [
      "/Users/rickmc/Library/Python/3.5/lib/python/site-packages/sklearn/linear_model/_logistic.py:940: ConvergenceWarning: lbfgs failed to converge (status=1):\n",
      "STOP: TOTAL NO. of ITERATIONS REACHED LIMIT.\n",
      "\n",
      "Increase the number of iterations (max_iter) or scale the data as shown in:\n",
      "    https://scikit-learn.org/stable/modules/preprocessing.html\n",
      "Please also refer to the documentation for alternative solver options:\n",
      "    https://scikit-learn.org/stable/modules/linear_model.html#logistic-regression\n",
      "  extra_warning_msg=_LOGISTIC_SOLVER_CONVERGENCE_MSG)\n"
     ]
    },
    {
     "data": {
      "text/plain": [
       "LogisticRegression(C=1.0, class_weight=None, dual=False, fit_intercept=True,\n",
       "                   intercept_scaling=1, l1_ratio=None, max_iter=100,\n",
       "                   multi_class='auto', n_jobs=None, penalty='l2',\n",
       "                   random_state=None, solver='lbfgs', tol=0.0001, verbose=0,\n",
       "                   warm_start=False)"
      ]
     },
     "execution_count": 658,
     "metadata": {},
     "output_type": "execute_result"
    }
   ],
   "source": [
    "lrmodel.fit(X_train, y_train)"
   ]
  },
  {
   "attachments": {},
   "cell_type": "markdown",
   "metadata": {},
   "source": [
    "# List of Top 20 F1 Racers, ranked \n",
    "1 United Kingdom Lewis Hamilton\t250\t84\t39\t28\t151\t88\t47\t3431\n",
    "2\tGermany Sebastian Vettel\t240\t53\t35\t32\t120\t57\t38\t2985\n",
    "3\tSpain Fernando Alonso\t311\t32\t37\t28\t97\t22\t23\t1899\n",
    "4\tFinland Kimi Räikkönen\t313\t21\t37\t45\t103\t18\t46\t1854\n",
    "5\tGermany Nico Rosberg\t206\t23\t25\t9\t57\t30\t20\t1594.5\n",
    "6\tGermany Michael Schumacher\t307\t91\t43\t21\t155\t68\t77\t1566\n",
    "7\tFinland Valtteri Bottas\t139\t7\t22\t16\t45\t11\t13\t1289\n",
    "8\tUnited Kingdom Jenson Button\t306\t15\t15\t20\t50\t8\t8\t1235\n",
    "9\tBrazil Felipe Massa\t269\t11\t13\t17\t41\t16\t15\t1167\n",
    "10\tAustralia Mark Webber\t215\t9\t16\t17\t42\t13\t19\t1047.5\n",
    "11\tAustralia Daniel Ricciardo\t171\t7\t6\t16\t29\t3\t13\t1040\n",
    "12\tNetherlands Max Verstappen\t102\t8\t11\t12\t31\t2\t7\t948\n",
    "13\tFrance Alain Prost\t199\t51\t35\t20\t106\t33\t41\t798.5\n",
    "14\tBrazil Rubens Barrichello\t322\t11\t29\t28\t68\t14\t17\t658\n",
    "15\tBrazil Ayrton Senna\t161\t41\t23\t16\t80\t65\t19\t614\n",
    "16\tMexico Sergio Pérez\t176\t0\t2\t6\t8\t0\t4\t580\n",
    "17\tUnited Kingdom David Coulthard\t246\t13\t26\t23\t62\t12\t18\t535\n",
    "18\tGermany Nico Hülkenberg\t178\t0\t0\t0\t0\t1\t2\t511\n",
    "19\tBrazil Nelson Piquet\t204\t23\t20\t17\t60\t24\t23\t485.5\n",
    "20\tUnited Kingdom Nigel Mansell\t188\t31\t17\t11\t59\t32\t30\t482\n",
    "\n",
    "List of Drivers by driverId\n",
    "\n",
    "1\tLewis\tHamilton\n",
    "2\tNick\tHeidfeld\n",
    "3\tNico\tRosberg\n",
    "4\tFernando\tAlonso\n",
    "5\tHeikki\tKovalainen\n",
    "6\tKazuki\tNakajima\n",
    "7\tS̩bastien Bourdais\n",
    "8\tKimi\tRaikk̦onen\n",
    "9\tRobert\tKubica\n",
    "10\tTimo\tGlock\n",
    "11\tTakuma\tSato\n",
    "12\tNelson\tPiquet Jr.\n",
    "13\tFelipe\tMassa\n",
    "14\tDavid\tCoulthard\n",
    "15\tJarno\tTrulli\n",
    "16\tAdrian\tSutil\n",
    "17\tMark\tWebber\n",
    "18\tJenson\tButton\n",
    "19\tAnthony\tDavidson\n",
    "20\tSebastian\tVettel\n",
    "21\tGiancarlo\tFisichella\n",
    "22\tRubens\tBarrichello\n",
    "23\tRalf\tSchumacher\n",
    "24\tVitantonio\tLiuzzi\n",
    "25\tAlexander\tWurz"
   ]
  },
  {
   "cell_type": "code",
   "execution_count": 659,
   "metadata": {},
   "outputs": [
    {
     "data": {
      "text/plain": [
       "0.04743083003952569"
      ]
     },
     "execution_count": 659,
     "metadata": {},
     "output_type": "execute_result"
    }
   ],
   "source": [
    "lrmodel.score(X_test,y_test)"
   ]
  },
  {
   "cell_type": "code",
   "execution_count": 660,
   "metadata": {},
   "outputs": [
    {
     "data": {
      "text/plain": [
       "array([[0.0827909 , 0.09525533, 0.0971764 , ..., 0.00379917, 0.0056381 ,\n",
       "        0.00592258],\n",
       "       [0.08220101, 0.0926919 , 0.09482276, ..., 0.00386934, 0.00550031,\n",
       "        0.00521459],\n",
       "       [0.07511569, 0.07066701, 0.0741107 , ..., 0.004446  , 0.00429015,\n",
       "        0.00161586],\n",
       "       ...,\n",
       "       [0.08220101, 0.0926919 , 0.09482276, ..., 0.00386934, 0.00550031,\n",
       "        0.00521459],\n",
       "       [0.06784028, 0.05543439, 0.05927047, ..., 0.00479842, 0.00342566,\n",
       "        0.00062931],\n",
       "       [0.06784028, 0.05543439, 0.05927047, ..., 0.00479842, 0.00342566,\n",
       "        0.00062931]])"
      ]
     },
     "execution_count": 660,
     "metadata": {},
     "output_type": "execute_result"
    }
   ],
   "source": [
    "lrmodel.predict_proba(X_test)"
   ]
  },
  {
   "cell_type": "code",
   "execution_count": 661,
   "metadata": {},
   "outputs": [
    {
     "data": {
      "text/plain": [
       "array([4.])"
      ]
     },
     "execution_count": 661,
     "metadata": {},
     "output_type": "execute_result"
    }
   ],
   "source": [
    "lrmodel.predict([[15]])"
   ]
  },
  {
   "cell_type": "code",
   "execution_count": 662,
   "metadata": {},
   "outputs": [],
   "source": [
    "from sklearn.neighbors import KNeighborsRegressor\n",
    "knn = KNeighborsRegressor(algorithm='brute')"
   ]
  },
  {
   "cell_type": "code",
   "execution_count": 663,
   "metadata": {},
   "outputs": [
    {
     "data": {
      "text/plain": [
       "KNeighborsRegressor(algorithm='brute', leaf_size=30, metric='minkowski',\n",
       "                    metric_params=None, n_jobs=None, n_neighbors=5, p=2,\n",
       "                    weights='uniform')"
      ]
     },
     "execution_count": 663,
     "metadata": {},
     "output_type": "execute_result"
    }
   ],
   "source": [
    "knn.fit(X_train, y_train)"
   ]
  },
  {
   "cell_type": "code",
   "execution_count": 664,
   "metadata": {},
   "outputs": [
    {
     "data": {
      "text/plain": [
       "0.35799691583644166"
      ]
     },
     "execution_count": 664,
     "metadata": {},
     "output_type": "execute_result"
    }
   ],
   "source": [
    "knn.score(X_test,y_test)"
   ]
  },
  {
   "cell_type": "code",
   "execution_count": 665,
   "metadata": {},
   "outputs": [
    {
     "data": {
      "text/plain": [
       "array([5.4])"
      ]
     },
     "execution_count": 665,
     "metadata": {},
     "output_type": "execute_result"
    }
   ],
   "source": [
    "knn.predict([[1]])"
   ]
  },
  {
   "cell_type": "code",
   "execution_count": 666,
   "metadata": {},
   "outputs": [
    {
     "data": {
      "text/plain": [
       "RandomForestRegressor(bootstrap=True, ccp_alpha=0.0, criterion='mse',\n",
       "                      max_depth=None, max_features='auto', max_leaf_nodes=None,\n",
       "                      max_samples=None, min_impurity_decrease=0.0,\n",
       "                      min_impurity_split=None, min_samples_leaf=1,\n",
       "                      min_samples_split=2, min_weight_fraction_leaf=0.0,\n",
       "                      n_estimators=20, n_jobs=None, oob_score=False,\n",
       "                      random_state=0, verbose=0, warm_start=False)"
      ]
     },
     "execution_count": 666,
     "metadata": {},
     "output_type": "execute_result"
    }
   ],
   "source": [
    "from sklearn.ensemble import RandomForestRegressor\n",
    "rforest = RandomForestRegressor(n_estimators=20, random_state=0)\n",
    "rforest.fit(X_train, y_train)\n"
   ]
  },
  {
   "cell_type": "code",
   "execution_count": 667,
   "metadata": {},
   "outputs": [
    {
     "data": {
      "text/plain": [
       "0.4425514264470067"
      ]
     },
     "execution_count": 667,
     "metadata": {},
     "output_type": "execute_result"
    }
   ],
   "source": [
    "rforest.score(X_test,y_test)"
   ]
  },
  {
   "cell_type": "code",
   "execution_count": 648,
   "metadata": {},
   "outputs": [
    {
     "data": {
      "text/plain": [
       "array([4.5255636])"
      ]
     },
     "execution_count": 648,
     "metadata": {},
     "output_type": "execute_result"
    }
   ],
   "source": [
    "rforest.predict([[8]])"
   ]
  },
  {
   "cell_type": "code",
   "execution_count": null,
   "metadata": {},
   "outputs": [],
   "source": []
  }
 ],
 "metadata": {
  "kernelspec": {
   "display_name": "Python 3",
   "language": "python",
   "name": "python3"
  },
  "language_info": {
   "codemirror_mode": {
    "name": "ipython",
    "version": 3
   },
   "file_extension": ".py",
   "mimetype": "text/x-python",
   "name": "python",
   "nbconvert_exporter": "python",
   "pygments_lexer": "ipython3",
   "version": "3.5.9"
  }
 },
 "nbformat": 4,
 "nbformat_minor": 4
}
